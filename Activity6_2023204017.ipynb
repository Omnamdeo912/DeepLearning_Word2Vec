{
  "nbformat": 4,
  "nbformat_minor": 0,
  "metadata": {
    "colab": {
      "provenance": [],
      "gpuType": "T4",
      "include_colab_link": true
    },
    "kernelspec": {
      "name": "python3",
      "display_name": "Python 3"
    },
    "language_info": {
      "name": "python"
    },
    "accelerator": "GPU"
  },
  "cells": [
    {
      "cell_type": "markdown",
      "metadata": {
        "id": "view-in-github",
        "colab_type": "text"
      },
      "source": [
        "<a href=\"https://colab.research.google.com/github/Omnamdeo912/DeepLearning_Word2Vec/blob/main/Activity6_2023204017.ipynb\" target=\"_parent\"><img src=\"https://colab.research.google.com/assets/colab-badge.svg\" alt=\"Open In Colab\"/></a>"
      ]
    },
    {
      "cell_type": "code",
      "execution_count": 27,
      "metadata": {
        "id": "ibAJgZIBNFkO"
      },
      "outputs": [],
      "source": [
        "import torch\n",
        "from torch import nn\n",
        "import torchtext\n",
        "import numpy as np\n"
      ]
    },
    {
      "cell_type": "code",
      "source": [
        "class DatasetForCBOW(torch.utils.data.Dataset):\n",
        "  def __init__(self, text, context_length=5):  # 1) Chnaged context_size to 5\n",
        "    text_list = text.split(\".\")\n",
        "    text_list_token = [t.split(\" \") for t in text_list]\n",
        "    n_grams = []\n",
        "    self.vocab = torchtext.vocab.build_vocab_from_iterator(text_list_token)\n",
        "\n",
        "    for sent in text_list_token:\n",
        "      len_sent = len(sent)\n",
        "      if len_sent >= 5:\n",
        "        for i in range(len_sent-4):\n",
        "          n_gram = sent[i: i+5]\n",
        "          n_grams.append(n_gram)\n",
        "    self.n_grams_indices = [self.vocab.lookup_indices(n_gram) for n_gram in n_grams]\n",
        "\n",
        "  def __len__(self):\n",
        "    return len(self.n_grams_indices)\n",
        "\n",
        "  def __getitem__(self, index):\n",
        "    x = (self.n_grams_indices[index][0], self.n_grams_indices[index][-1])\n",
        "    y = self.n_grams_indices[index][1]\n",
        "    return torch.tensor(x), torch.tensor(y)"
      ],
      "metadata": {
        "id": "_EL9aPPATFcE"
      },
      "execution_count": 2,
      "outputs": []
    },
    {
      "cell_type": "markdown",
      "source": [
        "2) Here i am taking bieeger corpus of words :\n",
        "```\n",
        "\" Technology has changed the way we live in big ways. It affects our society in many different aspects. Let's look at some ways technology has made an impact.\n",
        "\n",
        "Communication is way faster now. We can talk to anyone, anywhere in an instant. Social media and texting help us stay connected. But sometimes, we forget to talk face-to-face.\n",
        "\n",
        "Learning is easier with technology. We can study online and use apps to help us understand better. But not everyone has access to these tools, which isn't fair.\n",
        "\n",
        "Shopping has shifted online too. We can buy things from home. It's convenient, but traditional stores struggle.\n",
        "\n",
        "Jobs have changed with technology. Some jobs disappeared, but new ones popped up. Working from home is more common now.\n",
        "\n",
        "Healthcare got better with technology. Doctors use machines to find problems early. But we worry about keeping our health data safe.\n",
        "\n",
        "Entertainment is everywhere with technology. We watch shows, play games, and even explore different worlds in virtual reality. But too much screen time isn't good for us.\n",
        "\n",
        "Technology helps the environment too. Solar panels and smart devices save energy. But making tech gadgets can harm the Earth.\n",
        "\n",
        "In the end, technology is a mixed bag. It brings good things like fast communication, easy learning, and better healthcare. But it also brings challenges like privacy worries and environmental concerns. We need to use technology wisely to make sure it helps our society without causing harm.\"\n",
        "```"
      ],
      "metadata": {
        "id": "Wo7lQvjXWk4l"
      }
    },
    {
      "cell_type": "code",
      "source": [
        "# 2) Taking bigger corpus text\n",
        "\n",
        "dataset = DatasetForCBOW(\"Technology has changed the way we live in big ways. It affects our society in many different aspects. Let's look at some ways technology has made an impact.Communication is way faster now. We can talk to anyone, anywhere in an instant. Social media and texting help us stay connected. But sometimes, we forget to talk face-to-face.Learning is easier with technology. We can study online and use apps to help us understand better. But not everyone has access to these tools, which isn't fair.Shopping has shifted online too. We can buy things from home. It's convenient, but traditional stores struggle.Jobs have changed with technology. Some jobs disappeared, but new ones popped up. Working from home is more common now.Healthcare got better with technology. Doctors use machines to find problems early. But we worry about keeping our health data safe.Entertainment is everywhere with technology. We watch shows, play games, and even explore different worlds in virtual reality. But too much screen time isn't good for us.Technology helps the environment too. Solar panels and smart devices save energy. But making tech gadgets can harm the Earth.In the end, technology is a mixed bag. It brings good things like fast communication, easy learning, and better healthcare. But it also brings challenges like privacy worries and environmental concerns. We need to use technology wisely to make sure it helps our society without causing harm.\")\n",
        "\n",
        "print(\"dataset size:\", len(dataset))\n",
        "print(dataset[4])\n",
        "\n",
        "for i in range(len(dataset)):  # Printing the list of tensors after n-gram processing\n",
        "    sample = dataset[i]\n",
        "    print(\"Sample {}: {}\".format(i, sample))\n",
        "\n",
        "print(dataset.vocab.get_itos())"
      ],
      "metadata": {
        "colab": {
          "base_uri": "https://localhost:8080/"
        },
        "id": "7-aPBRBlTaEF",
        "outputId": "5f19eadc-3fc2-4120-8f95-0884f90461a2"
      },
      "execution_count": 12,
      "outputs": [
        {
          "output_type": "stream",
          "name": "stdout",
          "text": [
            "dataset size: 141\n",
            "(tensor([39, 67]), tensor(17))\n",
            "Sample 0: (tensor([19, 39]), tensor(8))\n",
            "Sample 1: (tensor([ 8, 17]), tensor(23))\n",
            "Sample 2: (tensor([ 23, 108]), tensor(10))\n",
            "Sample 3: (tensor([10,  9]), tensor(39))\n",
            "Sample 4: (tensor([39, 67]), tensor(17))\n",
            "Sample 5: (tensor([17, 40]), tensor(108))\n",
            "Sample 6: (tensor([ 0, 36]), tensor(18))\n",
            "Sample 7: (tensor([18,  9]), tensor(59))\n",
            "Sample 8: (tensor([ 59, 114]), tensor(13))\n",
            "Sample 9: (tensor([13, 24]), tensor(36))\n",
            "Sample 10: (tensor([36, 64]), tensor(9))\n",
            "Sample 11: (tensor([  0, 135]), tensor(50))\n",
            "Sample 12: (tensor([50, 40]), tensor(109))\n",
            "Sample 13: (tensor([109,   1]), tensor(65))\n",
            "Sample 14: (tensor([65,  8]), tensor(135))\n",
            "Sample 15: (tensor([135, 111]), tensor(40))\n",
            "Sample 16: (tensor([40, 20]), tensor(1))\n",
            "Sample 17: (tensor([  1, 103]), tensor(8))\n",
            "Sample 18: (tensor([41, 34]), tensor(6))\n",
            "Sample 19: (tensor([0, 2]), tensor(5))\n",
            "Sample 20: (tensor([ 5, 61]), tensor(7))\n",
            "Sample 21: (tensor([ 7, 62]), tensor(37))\n",
            "Sample 22: (tensor([37,  9]), tensor(2))\n",
            "Sample 23: (tensor([ 2, 20]), tensor(61))\n",
            "Sample 24: (tensor([ 61, 104]), tensor(62))\n",
            "Sample 25: (tensor([  0, 143]), tensor(52))\n",
            "Sample 26: (tensor([52, 28]), tensor(115))\n",
            "Sample 27: (tensor([115,  15]), tensor(4))\n",
            "Sample 28: (tensor([  4, 137]), tensor(143))\n",
            "Sample 29: (tensor([143,  74]), tensor(28))\n",
            "Sample 30: (tensor([ 0, 96]), tensor(3))\n",
            "Sample 31: (tensor([3, 2]), tensor(136))\n",
            "Sample 32: (tensor([136,  37]), tensor(17))\n",
            "Sample 33: (tensor([17, 90]), tensor(96))\n",
            "Sample 34: (tensor([49,  1]), tensor(6))\n",
            "Sample 35: (tensor([ 0, 35]), tensor(5))\n",
            "Sample 36: (tensor([5, 4]), tensor(7))\n",
            "Sample 37: (tensor([ 7, 16]), tensor(140))\n",
            "Sample 38: (tensor([140,  63]), tensor(35))\n",
            "Sample 39: (tensor([35,  2]), tensor(4))\n",
            "Sample 40: (tensor([ 4, 28]), tensor(16))\n",
            "Sample 41: (tensor([16, 15]), tensor(63))\n",
            "Sample 42: (tensor([ 63, 148]), tensor(2))\n",
            "Sample 43: (tensor([ 2, 12]), tensor(28))\n",
            "Sample 44: (tensor([0, 8]), tensor(3))\n",
            "Sample 45: (tensor([ 3, 58]), tensor(121))\n",
            "Sample 46: (tensor([121,   2]), tensor(87))\n",
            "Sample 47: (tensor([ 87, 144]), tensor(8))\n",
            "Sample 48: (tensor([  8, 146]), tensor(58))\n",
            "Sample 49: (tensor([ 58, 152]), tensor(2))\n",
            "Sample 50: (tensor([ 2, 31]), tensor(144))\n",
            "Sample 51: (tensor([144,  91]), tensor(146))\n",
            "Sample 52: (tensor([51, 14]), tensor(8))\n",
            "Sample 53: (tensor([ 0, 38]), tensor(5))\n",
            "Sample 54: (tensor([ 5, 25]), tensor(7))\n",
            "Sample 55: (tensor([ 7, 30]), tensor(68))\n",
            "Sample 56: (tensor([  0, 147]), tensor(47))\n",
            "Sample 57: (tensor([ 47, 138]), tensor(75))\n",
            "Sample 58: (tensor([ 75, 139]), tensor(22))\n",
            "Sample 59: (tensor([48,  1]), tensor(100))\n",
            "Sample 60: (tensor([ 0, 22]), tensor(54))\n",
            "Sample 61: (tensor([ 54, 120]), tensor(105))\n",
            "Sample 62: (tensor([105, 122]), tensor(78))\n",
            "Sample 63: (tensor([ 78, 125]), tensor(22))\n",
            "Sample 64: (tensor([ 22, 149]), tensor(120))\n",
            "Sample 65: (tensor([0, 6]), tensor(55))\n",
            "Sample 66: (tensor([ 55, 117]), tensor(25))\n",
            "Sample 67: (tensor([25, 71]), tensor(30))\n",
            "Sample 68: (tensor([30, 34]), tensor(6))\n",
            "Sample 69: (tensor([45,  1]), tensor(99))\n",
            "Sample 70: (tensor([0, 2]), tensor(42))\n",
            "Sample 71: (tensor([42, 94]), tensor(16))\n",
            "Sample 72: (tensor([ 16, 127]), tensor(110))\n",
            "Sample 73: (tensor([110,  79]), tensor(2))\n",
            "Sample 74: (tensor([ 0, 57]), tensor(3))\n",
            "Sample 75: (tensor([  3, 106]), tensor(17))\n",
            "Sample 76: (tensor([17, 13]), tensor(157))\n",
            "Sample 77: (tensor([157, 101]), tensor(57))\n",
            "Sample 78: (tensor([57, 76]), tensor(106))\n",
            "Sample 79: (tensor([106, 129]), tensor(13))\n",
            "Sample 80: (tensor([44,  1]), tensor(6))\n",
            "Sample 81: (tensor([  0, 124]), tensor(5))\n",
            "Sample 82: (tensor([ 5, 98]), tensor(151))\n",
            "Sample 83: (tensor([151,   4]), tensor(133))\n",
            "Sample 84: (tensor([133,  86]), tensor(124))\n",
            "Sample 85: (tensor([124,  89]), tensor(98))\n",
            "Sample 86: (tensor([98, 24]), tensor(4))\n",
            "Sample 87: (tensor([  4, 155]), tensor(86))\n",
            "Sample 88: (tensor([86,  9]), tensor(89))\n",
            "Sample 89: (tensor([ 89, 150]), tensor(24))\n",
            "Sample 90: (tensor([ 24, 128]), tensor(155))\n",
            "Sample 91: (tensor([  0, 131]), tensor(3))\n",
            "Sample 92: (tensor([  3, 145]), tensor(14))\n",
            "Sample 93: (tensor([14, 31]), tensor(118))\n",
            "Sample 94: (tensor([118,  26]), tensor(131))\n",
            "Sample 95: (tensor([131,  95]), tensor(145))\n",
            "Sample 96: (tensor([145,  15]), tensor(31))\n",
            "Sample 97: (tensor([19, 14]), tensor(29))\n",
            "Sample 98: (tensor([  0, 134]), tensor(53))\n",
            "Sample 99: (tensor([53, 77]), tensor(123))\n",
            "Sample 100: (tensor([123, 130]), tensor(4))\n",
            "Sample 101: (tensor([ 4, 83]), tensor(134))\n",
            "Sample 102: (tensor([ 0, 97]), tensor(3))\n",
            "Sample 103: (tensor([3, 7]), tensor(113))\n",
            "Sample 104: (tensor([113,  27]), tensor(142))\n",
            "Sample 105: (tensor([142,  10]), tensor(97))\n",
            "Sample 106: (tensor([97, 43]), tensor(7))\n",
            "Sample 107: (tensor([46,  6]), tensor(10))\n",
            "Sample 108: (tensor([10, 56]), tensor(82))\n",
            "Sample 109: (tensor([ 82, 116]), tensor(1))\n",
            "Sample 110: (tensor([ 1, 66]), tensor(6))\n",
            "Sample 111: (tensor([ 0, 38]), tensor(18))\n",
            "Sample 112: (tensor([18, 33]), tensor(21))\n",
            "Sample 113: (tensor([21, 92]), tensor(26))\n",
            "Sample 114: (tensor([26, 72]), tensor(38))\n",
            "Sample 115: (tensor([38, 81]), tensor(33))\n",
            "Sample 116: (tensor([ 33, 107]), tensor(92))\n",
            "Sample 117: (tensor([92,  4]), tensor(72))\n",
            "Sample 118: (tensor([72, 12]), tensor(81))\n",
            "Sample 119: (tensor([ 81, 102]), tensor(107))\n",
            "Sample 120: (tensor([ 0, 21]), tensor(3))\n",
            "Sample 121: (tensor([ 3, 70]), tensor(32))\n",
            "Sample 122: (tensor([32, 33]), tensor(60))\n",
            "Sample 123: (tensor([ 60, 126]), tensor(21))\n",
            "Sample 124: (tensor([ 21, 156]), tensor(70))\n",
            "Sample 125: (tensor([70,  4]), tensor(33))\n",
            "Sample 126: (tensor([33, 85]), tensor(126))\n",
            "Sample 127: (tensor([126,  73]), tensor(156))\n",
            "Sample 128: (tensor([ 0, 16]), tensor(5))\n",
            "Sample 129: (tensor([5, 1]), tensor(119))\n",
            "Sample 130: (tensor([119, 153]), tensor(2))\n",
            "Sample 131: (tensor([2, 2]), tensor(16))\n",
            "Sample 132: (tensor([ 16, 112]), tensor(1))\n",
            "Sample 133: (tensor([  1, 141]), tensor(153))\n",
            "Sample 134: (tensor([153,  32]), tensor(2))\n",
            "Sample 135: (tensor([ 2, 29]), tensor(112))\n",
            "Sample 136: (tensor([112,  13]), tensor(141))\n",
            "Sample 137: (tensor([141,  36]), tensor(32))\n",
            "Sample 138: (tensor([ 32, 154]), tensor(29))\n",
            "Sample 139: (tensor([29, 69]), tensor(13))\n",
            "Sample 140: (tensor([13, 27]), tensor(36))\n",
            "<bound method Vocab.get_stoi of Vocab()>\n",
            "['', 'technology', 'to', 'But', 'and', 'We', 'is', 'can', 'has', 'in', 'the', 'with', 'better', 'our', 'too', 'us', 'use', 'we', 'It', 'Technology', 'an', 'brings', 'but', 'changed', 'different', 'from', 'good', 'harm', 'help', 'helps', 'home', \"isn't\", 'it', 'like', 'now', 'online', 'society', 'talk', 'things', 'way', 'ways', 'Communication', 'Doctors', 'Earth', 'Entertainment', 'Healthcare', 'In', \"It's\", 'Jobs', 'Learning', \"Let's\", 'Shopping', 'Social', 'Solar', 'Some', 'Working', 'a', 'about', 'access', 'affects', 'also', 'anyone,', 'anywhere', 'apps', 'aspects', 'at', 'bag', 'big', 'buy', 'causing', 'challenges', 'common', 'communication,', 'concerns', 'connected', 'convenient,', 'data', 'devices', 'disappeared,', 'early', 'easier', 'easy', 'end,', 'energy', 'environment', 'environmental', 'even', 'everyone', 'everywhere', 'explore', 'face-to-face', 'fair', 'fast', 'faster', 'find', 'for', 'forget', 'gadgets', 'games,', 'got', 'have', 'health', 'healthcare', 'impact', 'instant', 'jobs', 'keeping', 'learning,', 'live', 'look', 'machines', 'made', 'make', 'making', 'many', 'media', 'mixed', 'more', 'much', 'need', 'new', 'not', 'ones', 'panels', 'play', 'popped', 'privacy', 'problems', 'reality', 'safe', 'save', 'screen', 'shifted', 'shows,', 'smart', 'some', 'sometimes,', 'stay', 'stores', 'struggle', 'study', 'sure', 'tech', 'texting', 'these', 'time', 'tools,', 'traditional', 'understand', 'up', 'virtual', 'watch', 'which', 'wisely', 'without', 'worlds', 'worries', 'worry']\n"
          ]
        }
      ]
    },
    {
      "cell_type": "code",
      "source": [
        "dataloader = torch.utils.data.DataLoader(dataset, batch_size=3)"
      ],
      "metadata": {
        "id": "zBktRDY2V-nc"
      },
      "execution_count": 4,
      "outputs": []
    },
    {
      "cell_type": "code",
      "source": [
        "class CBOWModeler(nn.Module):\n",
        "\n",
        "    def __init__(self, vocab, embedding_dim, context_size):\n",
        "        super(CBOWModeler, self).__init__()\n",
        "        vocab_size = len(vocab)\n",
        "        self.embeddings = torch.nn.Embedding(vocab_size, embedding_dim)\n",
        "        self.linear = torch.nn.Linear(embedding_dim, vocab_size)\n",
        "        self.relu = torch.nn.ReLU()\n",
        "        self.softmax = torch.nn.Softmax(dim=-1)\n",
        "        self.loss_fun = torch.nn.CrossEntropyLoss()\n",
        "        self.vocab = vocab\n",
        "\n",
        "    def forward(self, inputs):\n",
        "        # inputs: b, s\n",
        "        embeds = self.embeddings(inputs) # b, s, dim\n",
        "        context_embed = embeds.sum(dim=1) # b, s\n",
        "        out1 = self.relu(context_embed) # b, s\n",
        "        out2 = self.linear(out1) # b, v\n",
        "        log_probs = self.softmax(out2)\n",
        "        return out2, log_probs\n",
        "\n",
        "\n",
        "\n",
        "\n"
      ],
      "metadata": {
        "id": "jwsbaFkPQCNu"
      },
      "execution_count": 5,
      "outputs": []
    },
    {
      "cell_type": "markdown",
      "source": [
        "4) Increasing embeddings from 100 to 200."
      ],
      "metadata": {
        "id": "Ssy8vislJQZ1"
      }
    },
    {
      "cell_type": "code",
      "source": [
        "model = CBOWModeler(dataset.vocab, 200, 5).to(\"cuda\")\n",
        "optim = torch.optim.Adam(model.parameters(), lr=1e-3)\n",
        "\n",
        "for epoch in range(100):\n",
        "  for batch in dataloader:\n",
        "    x, y = batch\n",
        "    x = x.to(\"cuda\")\n",
        "    y = y.to(\"cuda\")\n",
        "    optim.zero_grad()\n",
        "    out, preds = model(x)\n",
        "    loss = model.loss_fun(out, y)\n",
        "    loss.backward()\n",
        "    optim.step()\n",
        "  print(loss)\n",
        "    # print(out.shape, preds.shape)\n",
        "  # print(out, preds)"
      ],
      "metadata": {
        "id": "E8HWKtzYWcC9",
        "colab": {
          "base_uri": "https://localhost:8080/"
        },
        "outputId": "8f7174cf-c66b-4c90-af3c-9475f998c7a3"
      },
      "execution_count": 29,
      "outputs": [
        {
          "output_type": "stream",
          "name": "stdout",
          "text": [
            "tensor(5.1955, device='cuda:0', grad_fn=<NllLossBackward0>)\n",
            "tensor(3.2636, device='cuda:0', grad_fn=<NllLossBackward0>)\n",
            "tensor(1.7995, device='cuda:0', grad_fn=<NllLossBackward0>)\n",
            "tensor(0.8923, device='cuda:0', grad_fn=<NllLossBackward0>)\n",
            "tensor(0.4731, device='cuda:0', grad_fn=<NllLossBackward0>)\n",
            "tensor(0.2888, device='cuda:0', grad_fn=<NllLossBackward0>)\n",
            "tensor(0.1962, device='cuda:0', grad_fn=<NllLossBackward0>)\n",
            "tensor(0.1434, device='cuda:0', grad_fn=<NllLossBackward0>)\n",
            "tensor(0.1102, device='cuda:0', grad_fn=<NllLossBackward0>)\n",
            "tensor(0.0879, device='cuda:0', grad_fn=<NllLossBackward0>)\n",
            "tensor(0.0720, device='cuda:0', grad_fn=<NllLossBackward0>)\n",
            "tensor(0.0603, device='cuda:0', grad_fn=<NllLossBackward0>)\n",
            "tensor(0.0513, device='cuda:0', grad_fn=<NllLossBackward0>)\n",
            "tensor(0.0443, device='cuda:0', grad_fn=<NllLossBackward0>)\n",
            "tensor(0.0387, device='cuda:0', grad_fn=<NllLossBackward0>)\n",
            "tensor(0.0341, device='cuda:0', grad_fn=<NllLossBackward0>)\n",
            "tensor(0.0304, device='cuda:0', grad_fn=<NllLossBackward0>)\n",
            "tensor(0.0272, device='cuda:0', grad_fn=<NllLossBackward0>)\n",
            "tensor(0.0245, device='cuda:0', grad_fn=<NllLossBackward0>)\n",
            "tensor(0.0222, device='cuda:0', grad_fn=<NllLossBackward0>)\n",
            "tensor(0.0202, device='cuda:0', grad_fn=<NllLossBackward0>)\n",
            "tensor(0.0185, device='cuda:0', grad_fn=<NllLossBackward0>)\n",
            "tensor(0.0170, device='cuda:0', grad_fn=<NllLossBackward0>)\n",
            "tensor(0.0157, device='cuda:0', grad_fn=<NllLossBackward0>)\n",
            "tensor(0.0145, device='cuda:0', grad_fn=<NllLossBackward0>)\n",
            "tensor(0.0134, device='cuda:0', grad_fn=<NllLossBackward0>)\n",
            "tensor(0.0125, device='cuda:0', grad_fn=<NllLossBackward0>)\n",
            "tensor(0.0116, device='cuda:0', grad_fn=<NllLossBackward0>)\n",
            "tensor(0.0109, device='cuda:0', grad_fn=<NllLossBackward0>)\n",
            "tensor(0.0102, device='cuda:0', grad_fn=<NllLossBackward0>)\n",
            "tensor(0.0095, device='cuda:0', grad_fn=<NllLossBackward0>)\n",
            "tensor(0.0090, device='cuda:0', grad_fn=<NllLossBackward0>)\n",
            "tensor(0.0084, device='cuda:0', grad_fn=<NllLossBackward0>)\n",
            "tensor(0.0079, device='cuda:0', grad_fn=<NllLossBackward0>)\n",
            "tensor(0.0075, device='cuda:0', grad_fn=<NllLossBackward0>)\n",
            "tensor(0.0071, device='cuda:0', grad_fn=<NllLossBackward0>)\n",
            "tensor(0.0067, device='cuda:0', grad_fn=<NllLossBackward0>)\n",
            "tensor(0.0064, device='cuda:0', grad_fn=<NllLossBackward0>)\n",
            "tensor(0.0060, device='cuda:0', grad_fn=<NllLossBackward0>)\n",
            "tensor(0.0057, device='cuda:0', grad_fn=<NllLossBackward0>)\n",
            "tensor(0.0054, device='cuda:0', grad_fn=<NllLossBackward0>)\n",
            "tensor(0.0052, device='cuda:0', grad_fn=<NllLossBackward0>)\n",
            "tensor(0.0049, device='cuda:0', grad_fn=<NllLossBackward0>)\n",
            "tensor(0.0047, device='cuda:0', grad_fn=<NllLossBackward0>)\n",
            "tensor(0.0045, device='cuda:0', grad_fn=<NllLossBackward0>)\n",
            "tensor(0.0043, device='cuda:0', grad_fn=<NllLossBackward0>)\n",
            "tensor(0.0041, device='cuda:0', grad_fn=<NllLossBackward0>)\n",
            "tensor(0.0039, device='cuda:0', grad_fn=<NllLossBackward0>)\n",
            "tensor(0.0038, device='cuda:0', grad_fn=<NllLossBackward0>)\n",
            "tensor(0.0036, device='cuda:0', grad_fn=<NllLossBackward0>)\n",
            "tensor(0.0034, device='cuda:0', grad_fn=<NllLossBackward0>)\n",
            "tensor(0.0033, device='cuda:0', grad_fn=<NllLossBackward0>)\n",
            "tensor(0.0032, device='cuda:0', grad_fn=<NllLossBackward0>)\n",
            "tensor(0.0030, device='cuda:0', grad_fn=<NllLossBackward0>)\n",
            "tensor(0.0029, device='cuda:0', grad_fn=<NllLossBackward0>)\n",
            "tensor(0.0028, device='cuda:0', grad_fn=<NllLossBackward0>)\n",
            "tensor(0.0027, device='cuda:0', grad_fn=<NllLossBackward0>)\n",
            "tensor(0.0026, device='cuda:0', grad_fn=<NllLossBackward0>)\n",
            "tensor(0.0025, device='cuda:0', grad_fn=<NllLossBackward0>)\n",
            "tensor(0.0024, device='cuda:0', grad_fn=<NllLossBackward0>)\n",
            "tensor(0.0023, device='cuda:0', grad_fn=<NllLossBackward0>)\n",
            "tensor(0.0022, device='cuda:0', grad_fn=<NllLossBackward0>)\n",
            "tensor(0.0021, device='cuda:0', grad_fn=<NllLossBackward0>)\n",
            "tensor(0.0021, device='cuda:0', grad_fn=<NllLossBackward0>)\n",
            "tensor(0.0020, device='cuda:0', grad_fn=<NllLossBackward0>)\n",
            "tensor(0.0019, device='cuda:0', grad_fn=<NllLossBackward0>)\n",
            "tensor(0.0019, device='cuda:0', grad_fn=<NllLossBackward0>)\n",
            "tensor(0.0018, device='cuda:0', grad_fn=<NllLossBackward0>)\n",
            "tensor(0.0017, device='cuda:0', grad_fn=<NllLossBackward0>)\n",
            "tensor(0.0017, device='cuda:0', grad_fn=<NllLossBackward0>)\n",
            "tensor(0.0016, device='cuda:0', grad_fn=<NllLossBackward0>)\n",
            "tensor(0.0016, device='cuda:0', grad_fn=<NllLossBackward0>)\n",
            "tensor(0.0015, device='cuda:0', grad_fn=<NllLossBackward0>)\n",
            "tensor(0.0015, device='cuda:0', grad_fn=<NllLossBackward0>)\n",
            "tensor(0.0014, device='cuda:0', grad_fn=<NllLossBackward0>)\n",
            "tensor(0.0014, device='cuda:0', grad_fn=<NllLossBackward0>)\n",
            "tensor(0.0013, device='cuda:0', grad_fn=<NllLossBackward0>)\n",
            "tensor(0.0013, device='cuda:0', grad_fn=<NllLossBackward0>)\n",
            "tensor(0.0012, device='cuda:0', grad_fn=<NllLossBackward0>)\n",
            "tensor(0.0012, device='cuda:0', grad_fn=<NllLossBackward0>)\n",
            "tensor(0.0012, device='cuda:0', grad_fn=<NllLossBackward0>)\n",
            "tensor(0.0011, device='cuda:0', grad_fn=<NllLossBackward0>)\n",
            "tensor(0.0011, device='cuda:0', grad_fn=<NllLossBackward0>)\n",
            "tensor(0.0010, device='cuda:0', grad_fn=<NllLossBackward0>)\n",
            "tensor(0.0010, device='cuda:0', grad_fn=<NllLossBackward0>)\n",
            "tensor(0.0010, device='cuda:0', grad_fn=<NllLossBackward0>)\n",
            "tensor(0.0010, device='cuda:0', grad_fn=<NllLossBackward0>)\n",
            "tensor(0.0009, device='cuda:0', grad_fn=<NllLossBackward0>)\n",
            "tensor(0.0009, device='cuda:0', grad_fn=<NllLossBackward0>)\n",
            "tensor(0.0009, device='cuda:0', grad_fn=<NllLossBackward0>)\n",
            "tensor(0.0008, device='cuda:0', grad_fn=<NllLossBackward0>)\n",
            "tensor(0.0008, device='cuda:0', grad_fn=<NllLossBackward0>)\n",
            "tensor(0.0008, device='cuda:0', grad_fn=<NllLossBackward0>)\n",
            "tensor(0.0008, device='cuda:0', grad_fn=<NllLossBackward0>)\n",
            "tensor(0.0007, device='cuda:0', grad_fn=<NllLossBackward0>)\n",
            "tensor(0.0007, device='cuda:0', grad_fn=<NllLossBackward0>)\n",
            "tensor(0.0007, device='cuda:0', grad_fn=<NllLossBackward0>)\n",
            "tensor(0.0007, device='cuda:0', grad_fn=<NllLossBackward0>)\n",
            "tensor(0.0007, device='cuda:0', grad_fn=<NllLossBackward0>)\n",
            "tensor(0.0006, device='cuda:0', grad_fn=<NllLossBackward0>)\n"
          ]
        }
      ]
    },
    {
      "cell_type": "code",
      "source": [
        "embeddings = model.embeddings.weight\n",
        "embeddings.shape"
      ],
      "metadata": {
        "colab": {
          "base_uri": "https://localhost:8080/"
        },
        "id": "2jUlfuzdjaKm",
        "outputId": "1bbad93d-8380-45f4-d7a2-9868970f52e7"
      },
      "execution_count": 30,
      "outputs": [
        {
          "output_type": "execute_result",
          "data": {
            "text/plain": [
              "torch.Size([158, 200])"
            ]
          },
          "metadata": {},
          "execution_count": 30
        }
      ]
    },
    {
      "cell_type": "code",
      "source": [
        "# context_indices = [dataset.vocab.stoi[word] for word in dataset.vocab]\n",
        "print(dataset.vocab.get_stoi())\n"
      ],
      "metadata": {
        "colab": {
          "base_uri": "https://localhost:8080/"
        },
        "id": "eBRQMSL4CROk",
        "outputId": "e5a212a6-caf0-45cb-9230-fa6e6193708a"
      },
      "execution_count": 13,
      "outputs": [
        {
          "output_type": "stream",
          "name": "stdout",
          "text": [
            "{'worry': 157, 'worries': 156, 'worlds': 155, 'wisely': 153, 'which': 152, 'watch': 151, 'virtual': 150, 'up': 149, 'time': 145, 'these': 144, 'texting': 143, 'sure': 141, 'sometimes,': 136, 'shows,': 133, 'study': 140, 'shifted': 132, 'screen': 131, 'save': 130, 'safe': 129, 'problems': 127, 'about': 57, 'ways': 40, 'struggle': 139, 'Technology': 19, 'causing': 69, 'a': 56, 'stores': 138, 'Working': 55, 'many': 114, 'Learning': 49, 'explore': 89, 'Healthcare': 45, 'But': 3, 'not': 121, 'Entertainment': 44, 'stay': 137, 'Earth': 43, 'make': 112, 'Doctors': 42, 'much': 118, 'Shopping': 51, 'In': 46, 'learning,': 107, 'made': 111, 'way': 39, 'changed': 23, 'for': 95, 'online': 35, 'now': 34, 'even': 86, 'things': 38, 'society': 36, 'challenges': 70, 'aspects': 64, 'like': 33, 'Solar': 53, 'Jobs': 48, 'popped': 125, '': 0, 'environment': 84, 'play': 124, 'helps': 29, 'Some': 54, 'better': 12, 'understand': 148, 'is': 6, 'buy': 68, 'and': 4, 'mixed': 116, \"It's\": 47, \"Let's\": 50, 'keeping': 106, 'in': 9, 'from': 25, 'has': 8, 'early': 79, 'the': 10, 'tools,': 146, 'face-to-face': 90, 'too': 14, 'got': 99, 'use': 16, 'some': 135, 'access': 58, 'we': 17, 'our': 13, 'an': 20, 'reality': 128, 'connected': 74, 'convenient,': 75, 'find': 94, 'games,': 98, 'It': 18, 'everywhere': 88, 'different': 24, 'common': 71, 'end,': 82, 'ones': 122, 'We': 5, 'talk': 37, 'need': 119, 'with': 11, 'but': 22, 'fast': 92, 'good': 26, 'it': 32, 'technology': 1, 'traditional': 147, 'affects': 59, 'without': 154, 'home': 30, 'anyone,': 61, 'live': 108, 'anywhere': 62, 'smart': 134, 'harm': 27, 'devices': 77, 'communication,': 72, 'at': 65, \"isn't\": 31, 'to': 2, 'data': 76, 'bag': 66, 'big': 67, 'concerns': 73, 'disappeared,': 78, 'tech': 142, 'easier': 80, 'also': 60, 'easy': 81, 'energy': 83, 'everyone': 87, 'fair': 91, 'apps': 63, 'faster': 93, 'forget': 96, 'gadgets': 97, 'Communication': 41, 'can': 7, 'environmental': 85, 'have': 100, 'health': 101, 'healthcare': 102, 'jobs': 105, 'us': 15, 'instant': 104, 'brings': 21, 'look': 109, 'making': 113, 'machines': 110, 'media': 115, 'Social': 52, 'more': 117, 'help': 28, 'new': 120, 'panels': 123, 'impact': 103, 'privacy': 126}\n"
          ]
        }
      ]
    },
    {
      "cell_type": "markdown",
      "source": [
        "3) Trying to compare embeddings of two close words (close by semantics)\n",
        "  > Used norm function to calculate distance"
      ],
      "metadata": {
        "id": "N7fz5b7NJZCP"
      }
    },
    {
      "cell_type": "code",
      "source": [
        "embedding1 = embeddings[142]\n",
        "embedding2 = embeddings[97]\n",
        "embedding3 = embeddings[152]\n",
        "\n",
        "distance_similar = torch.norm(embedding1 - embedding2).item()\n",
        "distance_different = torch.norm(embedding1 - embedding3).item()\n",
        "print(distance_similar)\n",
        "print(distance_different)\n"
      ],
      "metadata": {
        "colab": {
          "base_uri": "https://localhost:8080/"
        },
        "id": "d12lAlBnFjHV",
        "outputId": "bff3bb39-66d9-4379-ebb5-d36da5db0811"
      },
      "execution_count": 35,
      "outputs": [
        {
          "output_type": "stream",
          "name": "stdout",
          "text": [
            "19.647817611694336\n",
            "21.88470458984375\n"
          ]
        }
      ]
    }
  ]
}